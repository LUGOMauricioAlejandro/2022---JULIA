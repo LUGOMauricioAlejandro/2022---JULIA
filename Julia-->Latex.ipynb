{
 "cells": [
  {
   "cell_type": "markdown",
   "id": "da6e4541",
   "metadata": {},
   "source": [
    "# Codigo de Julia ---> Latex"
   ]
  },
  {
   "cell_type": "code",
   "execution_count": null,
   "id": "db5f40f2",
   "metadata": {},
   "outputs": [],
   "source": []
  },
  {
   "cell_type": "code",
   "execution_count": 1,
   "id": "3b6d403e",
   "metadata": {},
   "outputs": [
    {
     "data": {
      "text/latex": [
       "$\\frac{x^{2}}{\\left( x + y \\right)^{3}}$"
      ],
      "text/plain": [
       "L\"$\\frac{x^{2}}{\\left( x + y \\right)^{3}}$\""
      ]
     },
     "execution_count": 1,
     "metadata": {},
     "output_type": "execute_result"
    }
   ],
   "source": [
    "        #Agrega la escritura de Latex\n",
    "eq = :(x^2 / (x+y)^3)  # Definición de la ecuación\n",
    "latexify(eq) # Imprime el resultado en código de latex"
   ]
  },
  {
   "cell_type": "code",
   "execution_count": 2,
   "id": "16295889",
   "metadata": {},
   "outputs": [
    {
     "name": "stdout",
     "output_type": "stream",
     "text": [
      "$x + \\frac{y}{\\left( b - 2 \\right)^{2}}$"
     ]
    }
   ],
   "source": [
    "print(latexify(\"x+y/(b-2)^2\")) # Imprime la escritura en texmaker"
   ]
  },
  {
   "cell_type": "code",
   "execution_count": 3,
   "id": "85041e34",
   "metadata": {},
   "outputs": [
    {
     "data": {
      "text/latex": [
       "\\begin{equation}\n",
       "\\left[\n",
       "\\begin{array}{ccc}\n",
       "x^{2} & \\frac{1}{3} & 5+3\\mathit{i} \\\\\n",
       "1 & P_{x} & \\Gamma\\left( 3 \\right) \\\\\n",
       "\\end{array}\n",
       "\\right]\n",
       "\\end{equation}\n"
      ],
      "text/plain": [
       "L\"\\begin{equation}\n",
       "\\left[\n",
       "\\begin{array}{ccc}\n",
       "x^{2} & \\frac{1}{3} & 5+3\\mathit{i} \\\\\n",
       "1 & P_{x} & \\Gamma\\left( 3 \\right) \\\\\n",
       "\\end{array}\n",
       "\\right]\n",
       "\\end{equation}\n",
       "\""
      ]
     },
     "execution_count": 3,
     "metadata": {},
     "output_type": "execute_result"
    }
   ],
   "source": [
    "array = [\"x^2\"  3//9 5+3im; 1 :P_x :(gamma(3))]  #Definición de una matriz\n",
    "latexify(array) # Imprime una matriz"
   ]
  },
  {
   "cell_type": "code",
   "execution_count": 13,
   "id": "d4e6d0e1",
   "metadata": {},
   "outputs": [
    {
     "data": {
      "text/latex": [
       "\\begin{align}\n",
       "\\frac{dx(t)}{dt} =& \\frac{\\left( y\\left( t \\right) \\right)^{m} s}{j^{m} + \\left( y\\left( t \\right) \\right)^{m}} - x\\left( t \\right) \\\\\n",
       "\\frac{dy(t)}{dt} =& \\frac{x\\left( t \\right)}{j_{2} + x\\left( t \\right)} - y\\left( t \\right)\n",
       "\\end{align}\n"
      ],
      "text/plain": [
       "L\"\\begin{align}\n",
       "\\frac{dx(t)}{dt} =& \\frac{\\left( y\\left( t \\right) \\right)^{m} s}{j^{m} + \\left( y\\left( t \\right) \\right)^{m}} - x\\left( t \\right) \\\\\n",
       "\\frac{dy(t)}{dt} =& \\frac{x\\left( t \\right)}{j_{2} + x\\left( t \\right)} - y\\left( t \\right)\n",
       "\\end{align}\n",
       "\""
      ]
     },
     "execution_count": 13,
     "metadata": {},
     "output_type": "execute_result"
    }
   ],
   "source": [
    "#Definición de sistema de ecuaciones desacoplados\n",
    "using ParameterizedFunctions\n",
    "using Latexify\n",
    "\n",
    "f = @ode_def positiveFeedback begin\n",
    "    dx = s*y^m/(j^m+y^m) - x\n",
    "    dy = x/(j_2+x) - y\n",
    "end s m j j_2   #Importante al definir el sistema de variables dependientes e independientes \n",
    "\n",
    "latexify(f) #Transforma la ecuación a LATEX"
   ]
  },
  {
   "cell_type": "code",
   "execution_count": null,
   "id": "edbae21a",
   "metadata": {},
   "outputs": [],
   "source": []
  },
  {
   "cell_type": "code",
   "execution_count": null,
   "id": "513bba00",
   "metadata": {},
   "outputs": [],
   "source": []
  },
  {
   "cell_type": "code",
   "execution_count": null,
   "id": "7d09e345",
   "metadata": {},
   "outputs": [],
   "source": []
  }
 ],
 "metadata": {
  "kernelspec": {
   "display_name": "Julia 1.7.2",
   "language": "julia",
   "name": "julia-1.7"
  },
  "language_info": {
   "file_extension": ".jl",
   "mimetype": "application/julia",
   "name": "julia",
   "version": "1.7.2"
  }
 },
 "nbformat": 4,
 "nbformat_minor": 5
}
