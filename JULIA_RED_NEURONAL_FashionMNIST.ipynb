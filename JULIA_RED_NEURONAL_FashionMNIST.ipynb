{
 "cells": [
  {
   "cell_type": "markdown",
   "id": "4fabe4fa",
   "metadata": {},
   "source": [
    "# Redes Neuronales en JULIA"
   ]
  },
  {
   "cell_type": "code",
   "execution_count": 1,
   "id": "b32919ae",
   "metadata": {},
   "outputs": [],
   "source": [
    "# LIBRERIA ---"
   ]
  },
  {
   "cell_type": "code",
   "execution_count": 2,
   "id": "8caa8e06",
   "metadata": {},
   "outputs": [
    {
     "name": "stderr",
     "output_type": "stream",
     "text": [
      "┌ Warning: Flux's datasets are deprecated, please use the package MLDatasets.jl\n",
      "└ @ Flux.Data /root/.julia/packages/Flux/qAdFM/src/data/Data.jl:16\n",
      "┌ Warning: Flux's datasets are deprecated, please use the package MLDatasets.jl\n",
      "└ @ Flux.Data /root/.julia/packages/Flux/qAdFM/src/data/Data.jl:16\n"
     ]
    }
   ],
   "source": [
    "images = Flux.Data.FashionMNIST.images();\n",
    "labels = Flux.Data.FashionMNIST.labels();"
   ]
  },
  {
   "cell_type": "code",
   "execution_count": 3,
   "id": "437c22a6",
   "metadata": {},
   "outputs": [
    {
     "data": {
      "text/plain": [
       "60000"
      ]
     },
     "execution_count": 3,
     "metadata": {},
     "output_type": "execute_result"
    }
   ],
   "source": [
    "#Set de imágenes de Entrenamiento\n",
    "length(labels)"
   ]
  },
  {
   "cell_type": "markdown",
   "id": "04646921",
   "metadata": {},
   "source": [
    "# Análisis de Imágenes"
   ]
  },
  {
   "cell_type": "markdown",
   "id": "7f18c0db",
   "metadata": {},
   "source": [
    "### Imágenes del DataSet de Entrenamiento"
   ]
  },
  {
   "cell_type": "code",
   "execution_count": 4,
   "id": "1569c5a0",
   "metadata": {},
   "outputs": [
    {
     "data": {
      "text/html": [
       "<table><tbody><tr><td style='text-align:center;vertical-align:middle; margin: 0.5em;border:1px #90999f solid;border-collapse:collapse'><img style='max-width: 100px; max-height:100px;display:inline' src=\"data:image/png;base64,iVBORw0KGgoAAAANSUhEUgAAAHAAAABwCAAAAADji6uXAAAABGdBTUEAALGPC/xhBQAAAAFzUkdCAK7OHOkAAAAgY0hSTQAAeiYAAICEAAD6AAAAgOgAAHUwAADqYAAAOpgAABdwnLpRPAAAA61JREFUaAW9wc2LlAUcAODnnfc3s+vurIamuJK4C7XVoTDS0BIhyXtYFHSJwEvQrf+gQKJOHbp1Cbp7EKyIOlqkkKigUAqyurT5sbvlzozzmfAGshCxG/F7npAsJAvJQrKQLCQLyUKykCwkC8lCsrBBBUYqUziEr1QKlOhbq1AZISQLyUKysEE1DPA4jqONVXTwE/oqBWoo0FcpEZKFZCFZ2KASAxzBK7iBMUzgKD7HIkYYqDQxRAshWUgWkoUN6qrsxwxK1PANnsPHOIeLuIwXsB9n8ANCspAsJAsbUGCEo9iHPzGJOczhLH5FEy/iGHo4i+PoIiQLyUKysA6FtT7EtMoE+ujiEPZhiJ/xC/p4D7N4HSFZSBaShXUYWWsJ02hjDHU00cEmDHEIB1HDDnytEpKFZCFZ+A8mUKKGFlZwFzMYokANExhgiN0qIVlIFpKFdShQwwBN7EIHXTTQxSq24A4m0MA9bMYFNLEPIVlIFpKFdRihxABvYhq/YxxDTGI3uhhDD4FxbMNn2ItASBaShWRhHQJdlUvooIEahtiBDu6gjnFMYgk38BY+wY8IyUKykCz8rUCJGgr0MFTpe+g0VtFGAyPcQolx9FR6GKLEs1hRCclCspAsPFBigL5/dhiv4SW0cQcNBAZoocQYxjFCS6WBVRzDKYRkIVlIFh4YeGgrdmEO0ziGJ9FBDavYhgV00MAOdDGBM2jiMIZYQRcHVEKykCwkCw8cxAfYjkcwQIll9PEHuijQxhm8gXOYwn3MqDyDKcyjhU1oYo9KSBaShWRR4lPsQh8DtFQaGKCtsgV78BHaeBcL6OA7XMMT2IYu6qihj1sqIVlIFpLF29iDq2iiia0qdWzBPBYwgUV8gVdxCrOYxPN4GTV0MYaGSh917EZIFpKFZLGIeWxGB/NoooHNuIvraKKNDvo4iYuYwVZ0sYweBuiijiEKNDCHkCwkC8niJkaYxyQexTJu4xYCY6hjHFOo4TaexirmsYQx3EYPffSwCTuxgr0IyUKykCzO4yTewQKuoYMmGhhHAyXuY4ARWvgNQwwQ6KCJLpaxjB76mMUiQrKQLCQLD5zAebyPWdzCMlZRooFAiQIj1FHHOOooVAosoomtGGInLuBLhGQhWUgWNQxxGqdxBCewB1tQQ4nAAAUWMcJN3Mc9lCoj9NBCDd/iMs6ohGQhWUgWQ2t9jwMqT2E7lvAYrqOLq/67kCwkC8nCv7iCKyqX/D9CspAsJAvJQrKQLCT7C6Vm6Bx367f0AAAAAElFTkSuQmCC\"></td><td style='text-align:center;vertical-align:middle; margin: 0.5em;border:1px #90999f solid;border-collapse:collapse'><img style='max-width: 100px; max-height:100px;display:inline' src=\"data:image/png;base64,iVBORw0KGgoAAAANSUhEUgAAAHAAAABwCAAAAADji6uXAAAABGdBTUEAALGPC/xhBQAAAAFzUkdCAK7OHOkAAAAgY0hSTQAAeiYAAICEAAD6AAAAgOgAAHUwAADqYAAAOpgAABdwnLpRPAAAA61JREFUaAW9wTuLXVUYANC1z/nuZB6SxAcEk8LCBwZ8oLFRCD4KOwtRsNDOQhTsAuIPsBKxEGwEQVtBLbUXkQgGURQiNiZE1ESjiWYe95xtsYs7M/eOY/WtFRYoqHY6jrfwAc5gE1u4C0/iR7yOy/5bSBaShWRhm4KKqrkPz+ApDLgOr+FGO53FvXgVv+BTvIFvzAvJQrKQLGxTNQfxPu5Bh6u4ht8xInAIf2NE1XyJZTyER/AZnrNTSBaShWRhgQ9xC37FiMAUBT0KLqHTdGauYR0VJ3Ec35sJyUKykCzscgK34CICPVZwFKvosIXAgIIJpriC85hqBjyPU2ZCspAsJAu7PIoDOIARPdbxCi7gPI7iZ3TYwhKuw/14GRcRGPE0TpkJyUKykCzs8jSm6DFgGX/iHTyOE3gXL+Bb3IAev+JNvITAMv7BnbgDZzUhWUgWkoVd7sU59DigOaj5BH/jOE7hIzyBwFc4gSnWMGDET3gQZzUhWUgWkoVt7sZvmKJDjxVc0tyFDdyM11CwhYIHNRdwDCNGrOMk3tOEZCFZSBa2eQUruIoBK1jHFA/gRtyACY5gC+tYwmE8g+txDYdQsIQHzIRkIVlIFrb5HEdwGw5iDT9gwBcYMWJAj0DBgA5XcBZr6NHhAj42E5KFZCFZ2OZtvI3rcTtexMP4Hd/iMibo7VTQYR2H8DWetVhIFpKFZGGBP3AaG3gMFUtYQ49RU1AwYhmbWMbn9haShWQhWdilYIJNVFxBjxFVU1DN6zWXNT1GVDMhWUgWkoVdKrY0P+JPBDY0FQVVUzQbmGj+0nQY7BSShWQhWVigw4Br2MQBTBEoqCgo6FCxgVUUDPYWkoVkIVlYoGpGDKio6DQjek1Bh4oRHUZNNS8kC8lCsrCPY/gDPSo6FPM6bKGgt7eQLCQLycIC1cygWcKAgoKCioIRE2ygYqKp5oVkIVlIFvaxjh5T9BhR0WMTFYGKfzSH7S0kC8lCsrCP0UxB1XQomoqCiilWNNW8kCwkC8nCPjoz1UyHoqnoUDHFqr2FZCFZSBYWqHbqzVQUTa+pKOgwoLe3kCwkC8nCAgVVs4lVMyN6DOgwaioKBvSaal5IFpKFZOF/6DCgoEOHgoqiqSia3t5CspAsJAsLVDMXcAemGDFighEjKgaEpqLXVPNCspAsJAv7OIw1BG5Chw5LZqbocQ6ruFXTYbRTSBaShWRhgYKqOYPvcBkTTYerqCiYYsQWDuO0ZjQvJAvJQrJ/Abos5VwcWwL4AAAAAElFTkSuQmCC\"></td><td style='text-align:center;vertical-align:middle; margin: 0.5em;border:1px #90999f solid;border-collapse:collapse'><img style='max-width: 100px; max-height:100px;display:inline' src=\"data:image/png;base64,iVBORw0KGgoAAAANSUhEUgAAAHAAAABwCAAAAADji6uXAAAABGdBTUEAALGPC/xhBQAAAAFzUkdCAK7OHOkAAAAgY0hSTQAAeiYAAICEAAD6AAAAgOgAAHUwAADqYAAAOpgAABdwnLpRPAAAApBJREFUaAW9wb2KXVUcB9C1z/llZjAj8SPGrxSCICl9BV/A1k58AgsrwdfwASStWNhoYWEviLVVINWAERMJ8U7m3rstTjGEyZx9q/9acYA7+AL3ceaqj3EPP+DCuigWxaJYDJziU3yOz/AIz/Ecr+IYd/EjdvjeuigWxaJYDDzFE3yNb3APb+MY/+ApfsFPODUWxaJYFIsDHOExvsWXOMcxHuN3fIcP8JexKBbFolgc4Clu4yG+wl28hQf4G7cRNGNRLIpFsTjA1uJNi0c4wyt4Hzt0dGNRLIpFsTjAhI4dZrzmRQ0dMRbFolgUiwOc4hgbzNhjRrOYMOHEWBSLYlEsDhA0NExoaJjQsMWE2VgUi2JRLA4w4RlmTGjYWXSLc4eJYlEsisUBJosZe8yYXArOccdYFItiUSwGXseMho7Ji/YINriJE2xcL4pFsSgWA+c4R3epWzRMFjOeYGNdFItiUSwGOmbrOo4dJopFsSgWA7PFHpNLe0wuTdhhwt71olgUi2IxcIKOjoYdJswuNXR0HGHjelEsikWxGGhoaOgWzVXNYrIuikWxKBYDs6s6mkVDx4wZsS6KRbEoFgMNO3Q0TBbdomOyaLiFf10vikWxKBYDNzChWTR0V+3QcWJdFItiUSwGgoYZ3cttLS7QrItiUSyKxcCRRccek5fruMBN66JYFItiMXCEji2al5uwwwU+xB+uF8WiWBSLgfcsJnTsMaNbTNijYYtH1kWxKBbFYmCDG+iY0bDDbHGBGXuc4qF1USyKRbEY+A0f4TX8Z9GwRXfpXezxp3VRLIpFsRh4hvv4BLdxEzO2FjO2eIBf8cy6KBbFolgMNGzws8UbeAe30HGGM2wsGrrrRbEoFsX+B+JDfAY1DT7jAAAAAElFTkSuQmCC\"></td><td style='text-align:center;vertical-align:middle; margin: 0.5em;border:1px #90999f solid;border-collapse:collapse'><img style='max-width: 100px; max-height:100px;display:inline' src=\"data:image/png;base64,iVBORw0KGgoAAAANSUhEUgAAAHAAAABwCAAAAADji6uXAAAABGdBTUEAALGPC/xhBQAAAAFzUkdCAK7OHOkAAAAgY0hSTQAAeiYAAICEAAD6AAAAgOgAAHUwAADqYAAAOpgAABdwnLpRPAAAA3VJREFUaAW9wU+LXYUZB+CH0593biZOxnG4DRKihhCQIvkEtS66KCK0i3aVj9BFReyiX8Cdi9JlVy5cVEpXJbgSd5UW6UJEEFvHMU2H6SWO8yc3N9eTQxdnkcWc43X1Pk+scQ0v4xe4h3fwT7yAX+KnWOAd/NF6USyKRbEY8QpexwNMsMTz+BMu40u0OMAxfoXX8D5+Y1wUi2JRLAZcxy18jE006HAHp3odOhyjRYsPcQVv4beGRbEoFsViwBuY6zWYokWLPRxjig4beo8Q7ONFvIrbzotiUSyKxYC38TrmOMQWvtVbYaZ3jAceW2Ebd3DbsCgWxaJYDPgHPsTP8XcEm7iHFeZYYhPBCWZ6m/idcVEsikWxGPEHvIavMMd9LHCqF8wRPIFTbOM9nBgXxaJYFIsBQYsf4029BVpcwAP8ABfwEI1eg7/6blEsikWxGNDqHeDfuIYlTtFhiQZnmKFFg6+sF8WiWBSLNRpsocMGTjHBEiu9R3qH1otiUSyKxYgGHe7iJho8RIcpOkzxAEvs4q5e0BoWxaJYFIs1vkSDCXawjxa7OEKLFRq01otiUSyKxRoLdHodGkzR4QgzPKk3sV4Ui2JRLEZ0ei3mWOFI7wgrXMAhZjjz/USxKBbFYkSDDpewgwV29ebYxDZWeg2e1WuNi2JRLIrFiE5vjk9wB5tY4jJW2McSl3CAK9aLYlEsisUaL+EL7GOJU2zhKSywwjN6l/FD/A8NOudFsSgWxWJAgw5X8SN8gR3s4l+4iGv4Bpc8doZb+D06w6JYFItiMaDT+xk+xRTHeA538QI6/Ac3cYhdHOEKbuBzw6JYFIti8R1u4mM02MCGXvQ6dFjiKk5wgufwuWFRLIpFsRhxDQeY4gxBiwt6LTps6C1wGf/FzLgoFsWiWIy4ig7BBFM8QvR20CII9nADh9jG0/jaeVEsikWxGBE0WGATT2CFDh2eRIuHuIKP8BMcINjB186LYlEsisWIXUwwx4uY4gQTtNjCBEvcxG18gwl2EMOiWBSLYjFihgb3sI3gABMc4T4aj53hCB3u4xl85rwoFsWiWIy4iAV29KZYIZhhjouYYYbr6NCgw5ZhUSyKRbEYcQN7mOo12MQSf8MtBO+jQYOncB97+MCwKBbFoliM+DVaNHgX17GPq9jDRx77i96frRfFolgU+z/53di4NNgKogAAAABJRU5ErkJg\"></td><td style='text-align:center;vertical-align:middle; margin: 0.5em;border:1px #90999f solid;border-collapse:collapse'><img style='max-width: 100px; max-height:100px;display:inline' src=\"data:image/png;base64,iVBORw0KGgoAAAANSUhEUgAAAHAAAABwCAAAAADji6uXAAAABGdBTUEAALGPC/xhBQAAAAFzUkdCAK7OHOkAAAAgY0hSTQAAeiYAAICEAAD6AAAAgOgAAHUwAADqYAAAOpgAABdwnLpRPAAAAsFJREFUaAW9wT9rXnUcB9Dzu88nTVKNUqltKA4RQSliRVyqUBAduujo5urg4ItxcNFX4OAmDoI4mdHBgrooVVor2ljbGpr0+XMd7pCpz72DfM+J/8EF/G6aKBbFoliM+BpncID3cd2JC/gG2/gNV3FovSgWxaJYjJjhaTyDa7iPz/EeZjjCP9jBoXFRLIpFsRhxgGdxgKewiw/xMi7hDoID00SxKBbFYsQvuIwljtEMruMKbmIbp00TxaJYFIsRP2KGHod4iEsGD9AQ3DNNFItiUSxG3MACHTZwC9/hPm5ihoa7poliUSyKxYhbeIiGFY7wAzbQ4S420UwTxaJYFIsRf2EPP+EIDTGYo2GJuWmiWBSLYjHiD4MOG+gMegQzBHdME8WiWBSLCY4NeoMeK6ywRMM900SxKBbFYoKVEz0aGno09Dg0TRSLYlEsJuicaJgZdOixxDnTRLEoFsVigmbQ0NBhgYZggT3TRLEoFsVigmbQoRk0gxmW2DNNFItiUSxGPI9TWCEGHRoaGhY4a5ooFsWiWIy4iBuYY8NghmbQ4Rjn8Tr2rRfFolgUixFvoUeHhh4NvcEMPX7GB9i3XhSLYlEsRlzGHDM09Jg50WELx3jNuCgWxaJYjNjDHXToDWbonZhhE7vYxLFHi2JRLIrFGmdwFn9iEz0aeizRoeEUvsK7eBX7Hi2KRbEoFmu8goYFttCjwxZOYYUeC7yA4CL2PVoUi2JRLNZ4G7cxxworPI6GDWzhHubYxQIvWS+KRbEoFms8hx3sosPf2MU7+AIPcBr3DR7Di9aLYlEsisUaX+ANNPTYNvjXYIGHBksc4Zr1olgUi2Kxxqf4BA23sTJYGdzGk5hjB0/gI+tFsSgWxWLEJXxvcGxwzuA8thHs4Cp+tV4Ui2JRLEZcQ8MVXMSb+NbgY5zDZ/jSNFEsikWx/wC8MYeCTlFgmAAAAABJRU5ErkJg\"></td></tr></tbody></table><div><small>(a vector displayed as a row to save space)</small></div>"
      ],
      "text/plain": [
       "5-element Vector{Matrix{Gray{N0f8}}}:\n",
       " [Gray{N0f8}(0.0) Gray{N0f8}(0.0) … Gray{N0f8}(0.0) Gray{N0f8}(0.0); Gray{N0f8}(0.0) Gray{N0f8}(0.0) … Gray{N0f8}(0.0) Gray{N0f8}(0.0); … ; Gray{N0f8}(0.0) Gray{N0f8}(0.0) … Gray{N0f8}(0.0) Gray{N0f8}(0.0); Gray{N0f8}(0.0) Gray{N0f8}(0.0) … Gray{N0f8}(0.0) Gray{N0f8}(0.0)]\n",
       " [Gray{N0f8}(0.0) Gray{N0f8}(0.0) … Gray{N0f8}(0.0) Gray{N0f8}(0.0); Gray{N0f8}(0.0) Gray{N0f8}(0.0) … Gray{N0f8}(0.0) Gray{N0f8}(0.0); … ; Gray{N0f8}(0.0) Gray{N0f8}(0.0) … Gray{N0f8}(0.0) Gray{N0f8}(0.0); Gray{N0f8}(0.0) Gray{N0f8}(0.0) … Gray{N0f8}(0.0) Gray{N0f8}(0.0)]\n",
       " [Gray{N0f8}(0.0) Gray{N0f8}(0.0) … Gray{N0f8}(0.0) Gray{N0f8}(0.0); Gray{N0f8}(0.0) Gray{N0f8}(0.0) … Gray{N0f8}(0.0) Gray{N0f8}(0.0); … ; Gray{N0f8}(0.0) Gray{N0f8}(0.0) … Gray{N0f8}(0.0) Gray{N0f8}(0.0); Gray{N0f8}(0.0) Gray{N0f8}(0.0) … Gray{N0f8}(0.0) Gray{N0f8}(0.0)]\n",
       " [Gray{N0f8}(0.0) Gray{N0f8}(0.0) … Gray{N0f8}(0.0) Gray{N0f8}(0.0); Gray{N0f8}(0.0) Gray{N0f8}(0.0) … Gray{N0f8}(0.0) Gray{N0f8}(0.0); … ; Gray{N0f8}(0.0) Gray{N0f8}(0.0) … Gray{N0f8}(0.0) Gray{N0f8}(0.0); Gray{N0f8}(0.0) Gray{N0f8}(0.0) … Gray{N0f8}(0.0) Gray{N0f8}(0.0)]\n",
       " [Gray{N0f8}(0.0) Gray{N0f8}(0.0) … Gray{N0f8}(0.0) Gray{N0f8}(0.0); Gray{N0f8}(0.0) Gray{N0f8}(0.0) … Gray{N0f8}(0.0) Gray{N0f8}(0.0); … ; Gray{N0f8}(0.0) Gray{N0f8}(0.0) … Gray{N0f8}(0.0) Gray{N0f8}(0.0); Gray{N0f8}(0.0) Gray{N0f8}(0.0) … Gray{N0f8}(0.0) Gray{N0f8}(0.0)]"
      ]
     },
     "execution_count": 4,
     "metadata": {},
     "output_type": "execute_result"
    }
   ],
   "source": [
    "images[1:5]  # Se presentan las imágenes"
   ]
  },
  {
   "cell_type": "markdown",
   "id": "398dab68",
   "metadata": {},
   "source": [
    "### Etiquetas"
   ]
  },
  {
   "cell_type": "code",
   "execution_count": 5,
   "id": "74f3ca8b",
   "metadata": {},
   "outputs": [
    {
     "data": {
      "text/plain": [
       "5-element Vector{Int64}:\n",
       " 9\n",
       " 0\n",
       " 0\n",
       " 3\n",
       " 0"
      ]
     },
     "execution_count": 5,
     "metadata": {},
     "output_type": "execute_result"
    }
   ],
   "source": [
    "# Etiquetas \n",
    "labels[1:5]"
   ]
  },
  {
   "cell_type": "code",
   "execution_count": 6,
   "id": "9476e13c",
   "metadata": {},
   "outputs": [
    {
     "data": {
      "image/png": "[encoded data removed]",
      "text/plain": [
       "28×28 Array{Gray{N0f8},2} with eltype Gray{N0f8}:\n",
       " Gray{N0f8}(0.0)  Gray{N0f8}(0.0)  …  Gray{N0f8}(0.0)  Gray{N0f8}(0.0)\n",
       " Gray{N0f8}(0.0)  Gray{N0f8}(0.0)     Gray{N0f8}(0.0)  Gray{N0f8}(0.0)\n",
       " Gray{N0f8}(0.0)  Gray{N0f8}(0.0)     Gray{N0f8}(0.0)  Gray{N0f8}(0.0)\n",
       " Gray{N0f8}(0.0)  Gray{N0f8}(0.0)     Gray{N0f8}(0.0)  Gray{N0f8}(0.0)\n",
       " Gray{N0f8}(0.0)  Gray{N0f8}(0.0)     Gray{N0f8}(0.0)  Gray{N0f8}(0.0)\n",
       " Gray{N0f8}(0.0)  Gray{N0f8}(0.0)  …  Gray{N0f8}(0.0)  Gray{N0f8}(0.0)\n",
       " Gray{N0f8}(0.0)  Gray{N0f8}(0.0)     Gray{N0f8}(0.0)  Gray{N0f8}(0.0)\n",
       " Gray{N0f8}(0.0)  Gray{N0f8}(0.0)     Gray{N0f8}(0.0)  Gray{N0f8}(0.0)\n",
       " Gray{N0f8}(0.0)  Gray{N0f8}(0.0)     Gray{N0f8}(0.0)  Gray{N0f8}(0.0)\n",
       " Gray{N0f8}(0.0)  Gray{N0f8}(0.0)     Gray{N0f8}(0.0)  Gray{N0f8}(0.0)\n",
       " Gray{N0f8}(0.0)  Gray{N0f8}(0.0)  …  Gray{N0f8}(0.0)  Gray{N0f8}(0.0)\n",
       " Gray{N0f8}(0.0)  Gray{N0f8}(0.0)     Gray{N0f8}(0.0)  Gray{N0f8}(0.0)\n",
       " Gray{N0f8}(0.0)  Gray{N0f8}(0.0)     Gray{N0f8}(0.0)  Gray{N0f8}(0.0)\n",
       " ⋮                                 ⋱                   \n",
       " Gray{N0f8}(0.0)  Gray{N0f8}(0.0)     Gray{N0f8}(0.0)  Gray{N0f8}(0.0)\n",
       " Gray{N0f8}(0.0)  Gray{N0f8}(0.0)     Gray{N0f8}(0.0)  Gray{N0f8}(0.0)\n",
       " Gray{N0f8}(0.0)  Gray{N0f8}(0.0)     Gray{N0f8}(0.0)  Gray{N0f8}(0.0)\n",
       " Gray{N0f8}(0.0)  Gray{N0f8}(0.0)     Gray{N0f8}(0.0)  Gray{N0f8}(0.0)\n",
       " Gray{N0f8}(0.0)  Gray{N0f8}(0.0)  …  Gray{N0f8}(0.0)  Gray{N0f8}(0.0)\n",
       " Gray{N0f8}(0.0)  Gray{N0f8}(0.0)     Gray{N0f8}(0.0)  Gray{N0f8}(0.0)\n",
       " Gray{N0f8}(0.0)  Gray{N0f8}(0.0)     Gray{N0f8}(0.0)  Gray{N0f8}(0.0)\n",
       " Gray{N0f8}(0.0)  Gray{N0f8}(0.0)     Gray{N0f8}(0.0)  Gray{N0f8}(0.0)\n",
       " Gray{N0f8}(0.0)  Gray{N0f8}(0.0)     Gray{N0f8}(0.0)  Gray{N0f8}(0.0)\n",
       " Gray{N0f8}(0.0)  Gray{N0f8}(0.0)  …  Gray{N0f8}(0.0)  Gray{N0f8}(0.0)\n",
       " Gray{N0f8}(0.0)  Gray{N0f8}(0.0)     Gray{N0f8}(0.0)  Gray{N0f8}(0.0)\n",
       " Gray{N0f8}(0.0)  Gray{N0f8}(0.0)     Gray{N0f8}(0.0)  Gray{N0f8}(0.0)"
      ]
     },
     "execution_count": 6,
     "metadata": {},
     "output_type": "execute_result"
    }
   ],
   "source": [
    "images[2]"
   ]
  },
  {
   "cell_type": "code",
   "execution_count": 7,
   "id": "d8871768",
   "metadata": {},
   "outputs": [
    {
     "data": {
      "text/plain": [
       "Vector{Matrix{Gray{N0f8}}} (alias for Array{Array{Gray{Normed{UInt8, 8}}, 2}, 1})"
      ]
     },
     "execution_count": 7,
     "metadata": {},
     "output_type": "execute_result"
    }
   ],
   "source": [
    "typeof(images)\n"
   ]
  },
  {
   "cell_type": "code",
   "execution_count": 8,
   "id": "1fb35706",
   "metadata": {},
   "outputs": [
    {
     "data": {
      "text/plain": [
       "28×28 Matrix{Float64}:\n",
       " 0.0  0.0  0.0  0.0         0.0       …  0.0       0.0       0.0  0.0\n",
       " 0.0  0.0  0.0  0.00392157  0.0          0.0       0.0       0.0  0.0\n",
       " 0.0  0.0  0.0  0.0         0.0          0.0       0.0       0.0  0.0\n",
       " 0.0  0.0  0.0  0.0         0.0          0.160784  0.0       0.0  0.0\n",
       " 0.0  0.0  0.0  0.0         0.2          0.54902   0.0       0.0  0.0\n",
       " 0.0  0.0  0.0  0.0         0.454902  …  0.878431  0.0       0.0  0.0\n",
       " 0.0  0.0  0.0  0.0         0.784314     0.980392  0.14902   0.0  0.0\n",
       " 0.0  0.0  0.0  0.0         0.968627     0.862745  0.372549  0.0  0.0\n",
       " 0.0  0.0  0.0  0.176471    0.886275     0.831373  0.611765  0.0  0.0\n",
       " 0.0  0.0  0.0  0.643137    0.921569     0.858824  0.815686  0.0  0.0\n",
       " 0.0  0.0  0.0  0.415686    0.733333  …  0.756863  0.443137  0.0  0.0\n",
       " 0.0  0.0  0.0  0.0         0.0          0.0       0.0       0.0  0.0\n",
       " 0.0  0.0  0.0  0.0         0.0          0.0       0.0       0.0  0.0\n",
       " ⋮                                    ⋱            ⋮              \n",
       " 0.0  0.0  0.0  0.0         0.0          0.0       0.0       0.0  0.0\n",
       " 0.0  0.0  0.0  0.0         0.0          0.0       0.0       0.0  0.0\n",
       " 0.0  0.0  0.0  0.0         0.0          0.0       0.0       0.0  0.0\n",
       " 0.0  0.0  0.0  0.0         0.0          0.0       0.0       0.0  0.0\n",
       " 0.0  0.0  0.0  0.0         0.0       …  0.0       0.0       0.0  0.0\n",
       " 0.0  0.0  0.0  0.0         0.0          0.0       0.0       0.0  0.0\n",
       " 0.0  0.0  0.0  0.0         0.0          0.0       0.0       0.0  0.0\n",
       " 0.0  0.0  0.0  0.0         0.0          0.0       0.0       0.0  0.0\n",
       " 0.0  0.0  0.0  0.0         0.0          0.0       0.0       0.0  0.0\n",
       " 0.0  0.0  0.0  0.0         0.0       …  0.0       0.0       0.0  0.0\n",
       " 0.0  0.0  0.0  0.0         0.0          0.0       0.0       0.0  0.0\n",
       " 0.0  0.0  0.0  0.0         0.0          0.0       0.0       0.0  0.0"
      ]
     },
     "execution_count": 8,
     "metadata": {},
     "output_type": "execute_result"
    }
   ],
   "source": [
    "Float64.(images[2])"
   ]
  },
  {
   "cell_type": "code",
   "execution_count": 9,
   "id": "b1aee30b",
   "metadata": {},
   "outputs": [
    {
     "data": {
      "text/plain": [
       "(28, 28)"
      ]
     },
     "execution_count": 9,
     "metadata": {},
     "output_type": "execute_result"
    }
   ],
   "source": [
    "size(images[2])  # Intput de la red neuronal "
   ]
  },
  {
   "cell_type": "markdown",
   "id": "019167ad",
   "metadata": {},
   "source": [
    "# Redes Neuronales con JULIA"
   ]
  },
  {
   "cell_type": "code",
   "execution_count": 10,
   "id": "470c3ce6",
   "metadata": {},
   "outputs": [
    {
     "data": {
      "text/plain": [
       "784"
      ]
     },
     "execution_count": 10,
     "metadata": {},
     "output_type": "execute_result"
    }
   ],
   "source": [
    "n_entradas = unique(length.(images))[]  #Ingreso de la red neuronal"
   ]
  },
  {
   "cell_type": "code",
   "execution_count": 11,
   "id": "724acb50",
   "metadata": {},
   "outputs": [
    {
     "data": {
      "text/plain": [
       "10"
      ]
     },
     "execution_count": 11,
     "metadata": {},
     "output_type": "execute_result"
    }
   ],
   "source": [
    "n_salidas = length(unique(labels))  #salida del clasificador tipo vanilla (una sola capa oculta )"
   ]
  },
  {
   "cell_type": "code",
   "execution_count": 12,
   "id": "43ebd976",
   "metadata": {},
   "outputs": [
    {
     "data": {
      "text/plain": [
       "preprocess (generic function with 1 method)"
      ]
     },
     "execution_count": 12,
     "metadata": {},
     "output_type": "execute_result"
    }
   ],
   "source": [
    "preprocess(img) = vec(Float64.(img)) # Ingreso del a Imagen como float64"
   ]
  },
  {
   "cell_type": "code",
   "execution_count": 13,
   "id": "833b8891",
   "metadata": {},
   "outputs": [],
   "source": [
    "xs = preprocess.(images[1:5000]); # Procesamiento del set de Entrenamiento "
   ]
  },
  {
   "cell_type": "code",
   "execution_count": 14,
   "id": "ef1e4f2e",
   "metadata": {},
   "outputs": [],
   "source": [
    "ys = [Flux.onehot(label, 0:9) for label in labels[1:5000]]; # Etiquetado del set de entrenamiento "
   ]
  },
  {
   "cell_type": "code",
   "execution_count": null,
   "id": "a48657cd",
   "metadata": {},
   "outputs": [],
   "source": []
  },
  {
   "cell_type": "code",
   "execution_count": 15,
   "id": "c722cd39",
   "metadata": {},
   "outputs": [
    {
     "data": {
      "text/plain": [
       "creacion_batch (generic function with 1 method)"
      ]
     },
     "execution_count": 15,
     "metadata": {},
     "output_type": "execute_result"
    }
   ],
   "source": [
    "function creacion_batch(r)\n",
    "    xs = [preprocess(img) for img in images[r]]    # Imágenes procesadas\n",
    "    ys = [Flux.onehot(label, 0:9) for label in labels[r]]\n",
    "    return (Flux.batch(xs), Flux.batch(ys))\n",
    "end"
   ]
  },
  {
   "cell_type": "code",
   "execution_count": 16,
   "id": "f2fd475b",
   "metadata": {},
   "outputs": [],
   "source": [
    "trainbatch = creacion_batch(1:5000); # Se crea el batch de entrenamiento de la red neuronal"
   ]
  },
  {
   "cell_type": "code",
   "execution_count": 18,
   "id": "898b1db7",
   "metadata": {},
   "outputs": [
    {
     "data": {
      "text/plain": [
       "L (generic function with 1 method)"
      ]
     },
     "execution_count": 18,
     "metadata": {},
     "output_type": "execute_result"
    }
   ],
   "source": [
    "model = Chain(Dense(n_entradas, n_salidas, identity), softmax ) # Se crea el modelo de la red neuronal\n",
    "L(x,y) = Flux.crossentropy(model(x),y)\n",
    "opt = SGD(params(model))\n",
    "@time Flux.train!(L, [trainbatch], opt)\n",
    "@time Flux.trian!(L, [trainbatch], opt) "
   ]
  },
  {
   "cell_type": "code",
   "execution_count": null,
   "id": "3bf9069a",
   "metadata": {},
   "outputs": [],
   "source": []
  }
 ],
 "metadata": {
  "kernelspec": {
   "display_name": "Julia 1.7.2",
   "language": "julia",
   "name": "julia-1.7"
  },
  "language_info": {
   "file_extension": ".jl",
   "mimetype": "application/julia",
   "name": "julia",
   "version": "1.7.2"
  }
 },
 "nbformat": 4,
 "nbformat_minor": 5
}
